{
 "cells": [
  {
   "cell_type": "code",
   "execution_count": 1,
   "metadata": {},
   "outputs": [],
   "source": [
    "import numpy as np\n",
    "import pandas as pd\n",
    "\n",
    "def int_handle_cnt(internel_handle_list, df_int_handle, name):\n",
    "    df_temp = df_int_handle[df_int_handle['internal_handle'].isin(internel_handle_list)]\n",
    "    df_temp = df_temp.groupby(['De-id']).count().reset_index('De-id')\n",
    "    df_temp.columns = ['De-id', PRE_FIX + name]\n",
    "    return df_temp\n",
    "\n",
    "def extract_one_month(df, PRE_FIX):\n",
    "    df_t = df[(df['event_type']=='PAGE_ACCESS') |\n",
    "              (df['event_type']=='COURSE_ACCESS') |\n",
    "              (df['event_type']=='LOGIN_ATTEMPT') |\n",
    "              (df['event_type']=='SESSION_TIMEOUT') |\n",
    "              (df['event_type']=='LOGOUT')]\n",
    "    df_t = df_t[['De-id', 'event_type', 'course_id', 'internal_handle', 'timestamp']]\n",
    "\n",
    "    df_evt = df_t[['De-id', 'event_type']]\n",
    "    df_login = df_evt[df_evt['event_type'] == 'LOGIN_ATTEMPT'].groupby(['De-id']).count().reset_index('De-id')\n",
    "    df_login.columns = ['De-id', PRE_FIX + 'LOGIN_ATTEMPT']\n",
    "\n",
    "    df_se_out = df_evt[df_evt['event_type'] == 'SESSION_TIMEOUT'].groupby(['De-id']).count().reset_index('De-id')\n",
    "    df_se_out.columns = ['De-id', PRE_FIX + 'SESSION_TIMEOUT']\n",
    "\n",
    "    df_logout = df_evt[df_evt['event_type'] == 'LOGOUT'].groupby(['De-id']).count().reset_index('De-id')\n",
    "    df_logout.columns = ['De-id', PRE_FIX + 'LOGOUT']\n",
    "\n",
    "    df_all = df_login\n",
    "    df_all = pd.merge(df_all, df_se_out, on='De-id', how='left')\n",
    "    df_all = pd.merge(df_all, df_logout, on='De-id', how='left')\n",
    "\n",
    "    df_int_handle = df_t[['De-id', 'internal_handle']]\n",
    "\n",
    "    group_list        = ['groups', 'cp_group_create_self_groupmem', 'group_file', 'group_file', 'group_forum', 'groups_sign_up', 'agroup', 'group_blogs','group_task_create', 'group_task_view','cp_group_edit_self_groupmem','group_file_add', 'group_email', 'cp_groups', 'cp_groups_settings','edit_group_blog_entry', 'db_forum_collection_group', 'group_tasks', 'group_journal','group_virtual_classroom', 'add_group_journal_entry','email_all_groups', 'edit_group_journal_entry', 'email_select_groups', 'add_group_blog_entry']\n",
    "    db_list           = ['discussion_board_entry', 'db_thread_list_entry', 'discussion_board', 'db_thread_list','db_collection', 'db_collection_group', 'db_collection_entry', 'db_thread_list_group']\n",
    "    myinfo_list       = ['my_inst_personal_info', 'my_inst_personal_settings','my_inst_personal_edit', 'my_inst_myplaces_settings','my_tasks', 'my_task_create', 'my_email_courses','my_task_view', 'my_announcements']\n",
    "    course_list       = ['course_tools_area', 'course_task_view', 'enroll_course', 'classic_course_catalog']\n",
    "    journal_list      = ['journal', 'journal_view', 'view_draft_journal_entry',  'add_journal_entry', 'edit_journal_entry']\n",
    "    email_list        = ['send_email', 'email_all_instructors', 'email_all_students', 'email_select_students','email_all_users',  'email_select_groups','email_all_groups']\n",
    "    staff_list        = ['staff_information', 'cp_staff_information']\n",
    "    annoucements_list = ['my_announcements', 'announcements_entry', 'announcements', 'cp_announcements']\n",
    "    content_list      = ['content', 'cp_content']\n",
    "    grade_list        = ['check_grade']\n",
    "\n",
    "    df_group        = int_handle_cnt(group_list, df_int_handle, 'group')\n",
    "    df_db           = int_handle_cnt(db_list, df_int_handle, 'db')\n",
    "    df_myinfo       = int_handle_cnt(myinfo_list, df_int_handle, 'myinfo')\n",
    "    df_course       = int_handle_cnt(course_list, df_int_handle, 'course')\n",
    "    df_journal      = int_handle_cnt(journal_list, df_int_handle, 'journal')\n",
    "    df_email        = int_handle_cnt(email_list, df_int_handle, 'email')\n",
    "    df_staff        = int_handle_cnt(staff_list, df_int_handle, 'staff')\n",
    "    df_annoucements = int_handle_cnt(annoucements_list, df_int_handle, 'annoucements')\n",
    "    df_content      = int_handle_cnt(content_list, df_int_handle, 'content')\n",
    "    df_grade        = int_handle_cnt(grade_list, df_int_handle, 'grade')\n",
    "\n",
    "    dfs = [df_group, df_db, df_myinfo, df_course, df_journal, df_email, df_staff, df_annoucements, df_content, df_grade]\n",
    "\n",
    "    for df in dfs:\n",
    "        df_all = pd.merge(df_all, df, on='De-id', how='left')   \n",
    "\n",
    "    df_all = df_all.rename(columns={'De-id':'MASKED_STUDENT_ID'})\n",
    "    return df_all\n",
    "\n"
   ]
  },
  {
   "cell_type": "code",
   "execution_count": 7,
   "metadata": {},
   "outputs": [],
   "source": [
    "lib_se1 = pd.read_csv('Std_Lib_features_2016_se1.csv')\n",
    "df_se1 = lib_se1"
   ]
  },
  {
   "cell_type": "code",
   "execution_count": 8,
   "metadata": {},
   "outputs": [],
   "source": [
    "df = pd.read_csv('DR0008_activity_accumulator_2016_09.csv', sep='\\t')\n",
    "PRE_FIX = '09_'\n",
    "df_one_month = extract_one_month(df, PRE_FIX)\n",
    "df_se1 = pd.merge(df_se1, df_one_month, on = ['MASKED_STUDENT_ID'], how='left').fillna(0)\n",
    "del df\n",
    "del df_one_month\n",
    "\n",
    "df = pd.read_csv('DR0008_activity_accumulator_2016-10.csv', sep='\\t')\n",
    "PRE_FIX = '10_'\n",
    "df_one_month = extract_one_month(df, PRE_FIX)\n",
    "df_se1 = pd.merge(df_se1, df_one_month, on = ['MASKED_STUDENT_ID'], how='left').fillna(0)\n",
    "del df\n",
    "del df_one_month\n",
    "\n",
    "df = pd.read_csv('DR0008_activity_accumulator_2016-11.csv', sep='\\t')\n",
    "PRE_FIX = '11_'\n",
    "df_one_month = extract_one_month(df, PRE_FIX)\n",
    "df_se1 = pd.merge(df_se1, df_one_month, on = ['MASKED_STUDENT_ID'], how='left').fillna(0)\n",
    "del df\n",
    "del df_one_month\n",
    "\n",
    "df = pd.read_csv('DR0008_activity_accumulator_2016-12.csv', sep='\\t')\n",
    "PRE_FIX = '12_'\n",
    "df_one_month = extract_one_month(df, PRE_FIX)\n",
    "df_se1 = pd.merge(df_se1, df_one_month, on = ['MASKED_STUDENT_ID'], how='left').fillna(0)\n",
    "del df\n",
    "del df_one_month"
   ]
  },
  {
   "cell_type": "code",
   "execution_count": 12,
   "metadata": {},
   "outputs": [],
   "source": [
    "# label_atRist\n",
    "df_se1.to_csv('2016_se1_lib_lms.csv', index=False)"
   ]
  },
  {
   "cell_type": "code",
   "execution_count": null,
   "metadata": {},
   "outputs": [],
   "source": []
  }
 ],
 "metadata": {
  "kernelspec": {
   "display_name": "Python 3",
   "language": "python",
   "name": "python3"
  },
  "language_info": {
   "codemirror_mode": {
    "name": "ipython",
    "version": 3
   },
   "file_extension": ".py",
   "mimetype": "text/x-python",
   "name": "python",
   "nbconvert_exporter": "python",
   "pygments_lexer": "ipython3",
   "version": "3.6.6"
  }
 },
 "nbformat": 4,
 "nbformat_minor": 2
}
